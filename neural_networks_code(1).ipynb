{
  "nbformat": 4,
  "nbformat_minor": 0,
  "metadata": {
    "colab": {
      "provenance": []
    },
    "kernelspec": {
      "name": "python3",
      "display_name": "Python 3"
    },
    "language_info": {
      "name": "python"
    },
    "accelerator": "GPU",
    "gpuClass": "standard"
  },
  "cells": [
    {
      "cell_type": "markdown",
      "source": [
        "## Load all required libraries and set seed"
      ],
      "metadata": {
        "id": "iRt9H2Q9zUEN"
      }
    },
    {
      "cell_type": "code",
      "execution_count": 1,
      "metadata": {
        "id": "xcOhFrz6BS5S"
      },
      "outputs": [],
      "source": [
        "import tensorflow as tf\n",
        "import pandas as pd\n",
        "import numpy as np\n",
        "import matplotlib.pyplot as plt\n",
        "\n",
        "tf.random.set_seed(\n",
        "    45\n",
        ")\n"
      ]
    },
    {
      "cell_type": "markdown",
      "source": [
        "## Load Data\n",
        "\n",
        "We load our training and testing data."
      ],
      "metadata": {
        "id": "KPGrmwDvzaT1"
      }
    },
    {
      "cell_type": "code",
      "source": [
        "train_data = pd.read_csv(\"train_data.csv\")\n",
        "test_data = pd.read_csv(\"test_data.csv\")"
      ],
      "metadata": {
        "id": "aoXi4v_1Bf2j"
      },
      "execution_count": 2,
      "outputs": []
    },
    {
      "cell_type": "code",
      "source": [
        "X = train_data.iloc[:,1:-1]"
      ],
      "metadata": {
        "id": "-zA-UMA4BsDw"
      },
      "execution_count": 3,
      "outputs": []
    },
    {
      "cell_type": "code",
      "source": [
        "Y = train_data.iloc[:,-1]\n",
        "Y = Y - 1\n",
        "Y.value_counts()"
      ],
      "metadata": {
        "colab": {
          "base_uri": "https://localhost:8080/"
        },
        "id": "jZiREvsDzESM",
        "outputId": "c803ad32-58b2-4cd6-9a15-e9f2b70c3cc8"
      },
      "execution_count": 4,
      "outputs": [
        {
          "output_type": "execute_result",
          "data": {
            "text/plain": [
              "0    401\n",
              "1     42\n",
              "Name: y_train, dtype: int64"
            ]
          },
          "metadata": {},
          "execution_count": 4
        }
      ]
    },
    {
      "cell_type": "markdown",
      "source": [
        "## Define the model\n",
        "\n",
        "It has 4 layers:\n",
        "\n",
        "- Input layer with 500 inputs (number of input gene values)\n",
        "- Dense layer with 200 neurons\n",
        "- Hidden Dense layer with 100 neurons\n",
        "- Output layer with 2 neurons, predicts outcome"
      ],
      "metadata": {
        "id": "a_f8EujxUh3n"
      }
    },
    {
      "cell_type": "code",
      "source": [
        "model = tf.keras.Sequential([\n",
        "\n",
        "  tf.keras.layers.Dense(20), # add 20 dense neurons\n",
        "\n",
        "  tf.keras.layers.Dense(10), # add another layer with 10 neurons\n",
        "\n",
        "  tf.keras.layers.Dense(2)\n",
        "\n",
        "])"
      ],
      "metadata": {
        "id": "jHWOVY1ODc4p"
      },
      "execution_count": 5,
      "outputs": []
    },
    {
      "cell_type": "code",
      "source": [
        "model.compile(loss=tf.keras.losses.BinaryCrossentropy(),\n",
        "\n",
        "                optimizer=tf.keras.optimizers.Adam(), \n",
        "\n",
        "                metrics=['accuracy',])"
      ],
      "metadata": {
        "id": "MsdUAvDvDlA5"
      },
      "execution_count": 6,
      "outputs": []
    },
    {
      "cell_type": "code",
      "source": [
        "fit = model.fit(X, Y, epochs=10, batch_size=2)"
      ],
      "metadata": {
        "colab": {
          "base_uri": "https://localhost:8080/"
        },
        "id": "eG8r8Tv3DoF3",
        "outputId": "2adf4df1-d5df-4b65-f2f6-ad7b6b9d8a45"
      },
      "execution_count": 7,
      "outputs": [
        {
          "output_type": "stream",
          "name": "stdout",
          "text": [
            "Epoch 1/10\n",
            "222/222 [==============================] - 3s 3ms/step - loss: 1.5031 - accuracy: 0.3747\n",
            "Epoch 2/10\n",
            "222/222 [==============================] - 1s 3ms/step - loss: 1.4624 - accuracy: 0.3792\n",
            "Epoch 3/10\n",
            "222/222 [==============================] - 1s 3ms/step - loss: 1.4624 - accuracy: 0.3792\n",
            "Epoch 4/10\n",
            "222/222 [==============================] - 1s 3ms/step - loss: 1.4624 - accuracy: 0.3792\n",
            "Epoch 5/10\n",
            "222/222 [==============================] - 1s 3ms/step - loss: 1.4624 - accuracy: 0.3792\n",
            "Epoch 6/10\n",
            "222/222 [==============================] - 1s 3ms/step - loss: 1.4624 - accuracy: 0.3792\n",
            "Epoch 7/10\n",
            "222/222 [==============================] - 1s 3ms/step - loss: 1.4624 - accuracy: 0.3792\n",
            "Epoch 8/10\n",
            "222/222 [==============================] - 1s 3ms/step - loss: 1.4624 - accuracy: 0.3792\n",
            "Epoch 9/10\n",
            "222/222 [==============================] - 1s 3ms/step - loss: 1.4624 - accuracy: 0.3792\n",
            "Epoch 10/10\n",
            "222/222 [==============================] - 1s 3ms/step - loss: 1.4624 - accuracy: 0.3792\n"
          ]
        }
      ]
    },
    {
      "cell_type": "markdown",
      "source": [
        "## A SUMMARY OF THE MODEL\n",
        "\n",
        "Down below we get an overvie of the architecture of the model"
      ],
      "metadata": {
        "id": "KGno4MWTUXEg"
      }
    },
    {
      "cell_type": "code",
      "source": [
        "model.summary()"
      ],
      "metadata": {
        "colab": {
          "base_uri": "https://localhost:8080/"
        },
        "id": "6he8iUbHE4Kr",
        "outputId": "3fa5bbb4-952e-4506-c91c-33743cddf689"
      },
      "execution_count": 8,
      "outputs": [
        {
          "output_type": "stream",
          "name": "stdout",
          "text": [
            "Model: \"sequential\"\n",
            "_________________________________________________________________\n",
            " Layer (type)                Output Shape              Param #   \n",
            "=================================================================\n",
            " dense (Dense)               (None, 20)                10020     \n",
            "                                                                 \n",
            " dense_1 (Dense)             (None, 10)                210       \n",
            "                                                                 \n",
            " dense_2 (Dense)             (None, 2)                 22        \n",
            "                                                                 \n",
            "=================================================================\n",
            "Total params: 10,252\n",
            "Trainable params: 10,252\n",
            "Non-trainable params: 0\n",
            "_________________________________________________________________\n"
          ]
        }
      ]
    },
    {
      "cell_type": "markdown",
      "source": [
        "### Printing model performance through time"
      ],
      "metadata": {
        "id": "BvUdGVkpzbtQ"
      }
    },
    {
      "cell_type": "code",
      "source": [
        "plt.plot(fit.history['loss'], label=\"Binary Cross Entropy Loss\")\n",
        "plt.legend(loc=\"upper right\")\n",
        "plt.show()\n"
      ],
      "metadata": {
        "colab": {
          "base_uri": "https://localhost:8080/",
          "height": 269
        },
        "id": "KfXpca4XGmos",
        "outputId": "5bb5206a-7dbe-4e9b-e82f-12acc997ab7b"
      },
      "execution_count": 9,
      "outputs": [
        {
          "output_type": "display_data",
          "data": {
            "text/plain": [
              "<Figure size 432x288 with 1 Axes>"
            ],
            "image/png": "[encoded data removed]"
          },
          "metadata": {
            "needs_background": "light"
          }
        }
      ]
    },
    {
      "cell_type": "code",
      "source": [
        "probability_model = tf.keras.Sequential([model, \n",
        "                                         tf.keras.layers.Softmax()])\n"
      ],
      "metadata": {
        "id": "vn_PPAqqGP9U"
      },
      "execution_count": 10,
      "outputs": []
    },
    {
      "cell_type": "markdown",
      "source": [
        "## Training Data\n",
        "\n",
        "Using our training data to benchmark model performance"
      ],
      "metadata": {
        "id": "oJuPN2W-zxYm"
      }
    },
    {
      "cell_type": "code",
      "source": [
        "predictions = probability_model.predict(X)\n"
      ],
      "metadata": {
        "colab": {
          "base_uri": "https://localhost:8080/"
        },
        "id": "6LAFPUyVGSQi",
        "outputId": "bd803022-3b1a-4eea-c979-e1d8683ff091"
      },
      "execution_count": 11,
      "outputs": [
        {
          "output_type": "stream",
          "name": "stdout",
          "text": [
            "14/14 [==============================] - 0s 1ms/step\n"
          ]
        }
      ]
    },
    {
      "cell_type": "code",
      "source": [
        "preds = np.argmax(predictions, axis=1)"
      ],
      "metadata": {
        "id": "xHDHrMqbGVgG"
      },
      "execution_count": 12,
      "outputs": []
    },
    {
      "cell_type": "markdown",
      "source": [
        "Finally create confusion Matrix"
      ],
      "metadata": {
        "id": "qB_qCPEz0AZ4"
      }
    },
    {
      "cell_type": "code",
      "source": [
        "tf.math.confusion_matrix(preds, Y)"
      ],
      "metadata": {
        "colab": {
          "base_uri": "https://localhost:8080/"
        },
        "id": "GZide9zKGj8J",
        "outputId": "9e560aa0-54b0-4e07-8fbb-74803940da15"
      },
      "execution_count": 13,
      "outputs": [
        {
          "output_type": "execute_result",
          "data": {
            "text/plain": [
              "<tf.Tensor: shape=(2, 2), dtype=int32, numpy=\n",
              "array([[127,   1],\n",
              "       [274,  41]], dtype=int32)>"
            ]
          },
          "metadata": {},
          "execution_count": 13
        }
      ]
    },
    {
      "cell_type": "markdown",
      "source": [
        "## Experiment on the testing set\n",
        "\n",
        "This section predicts the values on new data using the neural network model. Here we evaluate its performance"
      ],
      "metadata": {
        "id": "XWjdifBNOTCR"
      }
    },
    {
      "cell_type": "code",
      "source": [
        "X_test = test_data.iloc[:,1:-1]"
      ],
      "metadata": {
        "id": "UgVAPKFpOYrQ"
      },
      "execution_count": 14,
      "outputs": []
    },
    {
      "cell_type": "code",
      "source": [
        "Y_test = test_data.iloc[:,-1]\n",
        "Y_test = Y_test - 1\n",
        "Y_test.value_counts()"
      ],
      "metadata": {
        "colab": {
          "base_uri": "https://localhost:8080/"
        },
        "id": "bws0Cf-jOmOK",
        "outputId": "7d884f83-ebc9-471e-c89b-d51757d55661"
      },
      "execution_count": 15,
      "outputs": [
        {
          "output_type": "execute_result",
          "data": {
            "text/plain": [
              "0    100\n",
              "1     10\n",
              "Name: y_test, dtype: int64"
            ]
          },
          "metadata": {},
          "execution_count": 15
        }
      ]
    },
    {
      "cell_type": "code",
      "source": [
        "test_predictions = probability_model.predict(X_test)"
      ],
      "metadata": {
        "colab": {
          "base_uri": "https://localhost:8080/"
        },
        "id": "-W3SPorTOuKO",
        "outputId": "7c83d509-d0ab-4814-b338-e6d06becc87f"
      },
      "execution_count": 16,
      "outputs": [
        {
          "output_type": "stream",
          "name": "stdout",
          "text": [
            "4/4 [==============================] - 0s 2ms/step\n"
          ]
        }
      ]
    },
    {
      "cell_type": "code",
      "source": [
        "test_preds = np.argmax(test_predictions, axis=1)"
      ],
      "metadata": {
        "id": "Y31Bl51pO0G9"
      },
      "execution_count": 17,
      "outputs": []
    },
    {
      "cell_type": "code",
      "source": [
        "tf.math.confusion_matrix(test_preds, Y_test)"
      ],
      "metadata": {
        "colab": {
          "base_uri": "https://localhost:8080/"
        },
        "id": "AxyR34LiO1Xm",
        "outputId": "745754dc-b6eb-48a7-f68e-d25175aa14a7"
      },
      "execution_count": 18,
      "outputs": [
        {
          "output_type": "execute_result",
          "data": {
            "text/plain": [
              "<tf.Tensor: shape=(2, 2), dtype=int32, numpy=\n",
              "array([[41,  0],\n",
              "       [59, 10]], dtype=int32)>"
            ]
          },
          "metadata": {},
          "execution_count": 18
        }
      ]
    },
    {
      "cell_type": "markdown",
      "source": [
        "This next chunk of code will help me turn this Colab Notebook into html"
      ],
      "metadata": {
        "id": "5bAkbxoQzn3r"
      }
    },
    {
      "cell_type": "code",
      "source": [
        "%%shell\n",
        "jupyter nbconvert --to html neural_networks_code.ipynb"
      ],
      "metadata": {
        "colab": {
          "base_uri": "https://localhost:8080/"
        },
        "id": "mhLckE4D3AaJ",
        "outputId": "f8235d27-5fc5-47d9-ee76-cb7561b8b412"
      },
      "execution_count": 17,
      "outputs": [
        {
          "output_type": "stream",
          "name": "stdout",
          "text": [
            "[NbConvertApp] Converting notebook neural_networks_code.ipynb to html\n",
            "[NbConvertApp] Writing 301798 bytes to neural_networks_code.html\n"
          ]
        },
        {
          "output_type": "execute_result",
          "data": {
            "text/plain": []
          },
          "metadata": {},
          "execution_count": 17
        }
      ]
    }
  ]
}